{
 "cells": [
  {
   "cell_type": "code",
   "execution_count": 44,
   "metadata": {},
   "outputs": [],
   "source": [
    "# #install packages\n",
    "# !pip3 install requests\n",
    "# !pip3 install bs4"
   ]
  },
  {
   "cell_type": "code",
   "execution_count": 5,
   "metadata": {},
   "outputs": [],
   "source": [
    "#import packages\n",
    "from bs4 import BeautifulSoup\n",
    "import pandas as pd\n",
    "import requests\n",
    "import urllib.request\n",
    "import time"
   ]
  },
  {
   "cell_type": "code",
   "execution_count": 26,
   "metadata": {},
   "outputs": [],
   "source": [
    "#create lists to store data scraped from web\n",
    "authors = []\n",
    "dates = []\n",
    "statements = []\n",
    "sources = []\n",
    "targets = []"
   ]
  },
  {
   "cell_type": "code",
   "execution_count": 27,
   "metadata": {},
   "outputs": [],
   "source": [
    "#create a function to scrape data from politifact website\n",
    "#there are 753 pages in the website to scrape\n",
    "#each page has 30 news items\n",
    "\n",
    "def scrape_website(page_number):\n",
    "    page_num = str(page_number)\n",
    "    URL= 'https://www.politifact.com/factchecks/list/?page='+page_num\n",
    "    webpage = requests.get(URL)\n",
    "    soup = BeautifulSoup(webpage.text,\"html.parser\")\n",
    "    statement_quote = soup.find_all('div', attrs={'class':'m-statement__quote'}) #Get the tag and it's class\n",
    "    statement_footer =  soup.find_all('footer',attrs={'class':'m-statement__footer'})  #Get the tag and it's class\n",
    "    statement_meta = soup.find_all('div', attrs={'class':'m-statement__meta'})#Get the tag and it's class\n",
    "    target = soup.find_all('div', attrs={'class':'m-statement__meter'}) #Get the tag and it's class\n",
    "   \n",
    "    #loop through the footer class m-statement__footer to get the date and author\n",
    "    for i in statement_footer:\n",
    "        link1 = i.text.strip()\n",
    "        name_and_date = link1.split()\n",
    "        first_name = name_and_date[1]\n",
    "        last_name = name_and_date[2]\n",
    "        full_name = first_name+' '+last_name\n",
    "        month = name_and_date[4]\n",
    "        day = name_and_date[5]\n",
    "        year = name_and_date[6]\n",
    "        date = month+' '+day+' '+year\n",
    "        dates.append(date)\n",
    "        authors.append(full_name)\n",
    "\n",
    "    #Loop through the div m-statement__quote to get the link\n",
    "    for i in statement_quote:\n",
    "        link2 = i.find_all('a')\n",
    "        statements.append(link2[0].text.strip())\n",
    "\n",
    "    #Loop through the div m-statement__meta to get the source\n",
    "    for i in statement_meta:\n",
    "        link3 = i.find_all('a') #Source\n",
    "        source_text = link3[0].text.strip()\n",
    "        sources.append(source_text)\n",
    "        \n",
    "    #Loop through the target or the div m-statement__meter to get the facts about the statement (True or False)\n",
    "    for i in target:\n",
    "        fact = i.find('div', attrs={'class':'c-image'}).find('img').get('alt')\n",
    "        targets.append(fact)\n",
    "\n"
   ]
  },
  {
   "cell_type": "code",
   "execution_count": 28,
   "metadata": {},
   "outputs": [],
   "source": [
    "#Loop through 'n-1' webpages to scrape the data\n",
    "n=10\n",
    "for i in range(1, n):\n",
    "  scrape_website(i)"
   ]
  },
  {
   "cell_type": "code",
   "execution_count": 29,
   "metadata": {},
   "outputs": [],
   "source": [
    "#Create a new dataFrame \n",
    "\n",
    "data = pd.DataFrame(columns = ['author',  'statement', 'source', 'date', 'target']) \n",
    "data['author'] = authors\n",
    "data['statement'] = statements\n",
    "data['source'] = sources\n",
    "data['date'] = dates\n",
    "data['target'] = targets"
   ]
  },
  {
   "cell_type": "code",
   "execution_count": 31,
   "metadata": {},
   "outputs": [
    {
     "data": {
      "text/html": [
       "<div>\n",
       "<style scoped>\n",
       "    .dataframe tbody tr th:only-of-type {\n",
       "        vertical-align: middle;\n",
       "    }\n",
       "\n",
       "    .dataframe tbody tr th {\n",
       "        vertical-align: top;\n",
       "    }\n",
       "\n",
       "    .dataframe thead th {\n",
       "        text-align: right;\n",
       "    }\n",
       "</style>\n",
       "<table border=\"1\" class=\"dataframe\">\n",
       "  <thead>\n",
       "    <tr style=\"text-align: right;\">\n",
       "      <th></th>\n",
       "      <th>author</th>\n",
       "      <th>statement</th>\n",
       "      <th>source</th>\n",
       "      <th>date</th>\n",
       "      <th>target</th>\n",
       "    </tr>\n",
       "  </thead>\n",
       "  <tbody>\n",
       "    <tr>\n",
       "      <th>0</th>\n",
       "      <td>Gabrielle Settles</td>\n",
       "      <td>The 2017 Unite the Right rally in Charlottesvi...</td>\n",
       "      <td>Scott Adams</td>\n",
       "      <td>March 10, 2023</td>\n",
       "      <td>pants-fire</td>\n",
       "    </tr>\n",
       "    <tr>\n",
       "      <th>1</th>\n",
       "      <td>Madison Czopek</td>\n",
       "      <td>Video shows that certain drinks can “test posi...</td>\n",
       "      <td>Facebook posts</td>\n",
       "      <td>March 10, 2023</td>\n",
       "      <td>false</td>\n",
       "    </tr>\n",
       "    <tr>\n",
       "      <th>2</th>\n",
       "      <td>Paul Specht</td>\n",
       "      <td>Wake County is the only large county in North ...</td>\n",
       "      <td>Erin Paré</td>\n",
       "      <td>March 10, 2023</td>\n",
       "      <td>mostly-true</td>\n",
       "    </tr>\n",
       "    <tr>\n",
       "      <th>3</th>\n",
       "      <td>Ciara O'Rourke</td>\n",
       "      <td>The White House Visitor Center is displaying a...</td>\n",
       "      <td>Facebook posts</td>\n",
       "      <td>March 9, 2023</td>\n",
       "      <td>pants-fire</td>\n",
       "    </tr>\n",
       "    <tr>\n",
       "      <th>4</th>\n",
       "      <td>Ciara O'Rourke</td>\n",
       "      <td>President Joe Biden is “in Gitmo.”</td>\n",
       "      <td>Facebook posts</td>\n",
       "      <td>March 9, 2023</td>\n",
       "      <td>pants-fire</td>\n",
       "    </tr>\n",
       "  </tbody>\n",
       "</table>\n",
       "</div>"
      ],
      "text/plain": [
       "              author                                          statement  \\\n",
       "0  Gabrielle Settles  The 2017 Unite the Right rally in Charlottesvi...   \n",
       "1     Madison Czopek  Video shows that certain drinks can “test posi...   \n",
       "2        Paul Specht  Wake County is the only large county in North ...   \n",
       "3     Ciara O'Rourke  The White House Visitor Center is displaying a...   \n",
       "4     Ciara O'Rourke                 President Joe Biden is “in Gitmo.”   \n",
       "\n",
       "           source            date       target  \n",
       "0     Scott Adams  March 10, 2023   pants-fire  \n",
       "1  Facebook posts  March 10, 2023        false  \n",
       "2       Erin Paré  March 10, 2023  mostly-true  \n",
       "3  Facebook posts   March 9, 2023   pants-fire  \n",
       "4  Facebook posts   March 9, 2023   pants-fire  "
      ]
     },
     "execution_count": 31,
     "metadata": {},
     "output_type": "execute_result"
    }
   ],
   "source": [
    "#show dataset\n",
    "data.head()"
   ]
  },
  {
   "cell_type": "code",
   "execution_count": 30,
   "metadata": {},
   "outputs": [
    {
     "name": "stdout",
     "output_type": "stream",
     "text": [
      "(270, 5)\n"
     ]
    }
   ],
   "source": [
    "#get the dimensions of dataset\n",
    "print(data.shape)"
   ]
  },
  {
   "cell_type": "code",
   "execution_count": 33,
   "metadata": {},
   "outputs": [
    {
     "data": {
      "text/plain": [
       "array(['pants-fire', 'false', 'mostly-true', 'barely-true', 'true',\n",
       "       'half-true', 'full-flop', 'half-flip'], dtype=object)"
      ]
     },
     "execution_count": 33,
     "metadata": {},
     "output_type": "execute_result"
    }
   ],
   "source": [
    "#get target values\n",
    "data.target.unique()"
   ]
  },
  {
   "cell_type": "code",
   "execution_count": 35,
   "metadata": {},
   "outputs": [
    {
     "name": "stdout",
     "output_type": "stream",
     "text": [
      "46\n",
      "160\n"
     ]
    }
   ],
   "source": [
    "#get the number of news items that are pants-fire or false\n",
    "print(data.target.value_counts()['pants-fire'])\n",
    "print(data.target.value_counts()['false'])"
   ]
  },
  {
   "cell_type": "code",
   "execution_count": 36,
   "metadata": {},
   "outputs": [
    {
     "data": {
      "text/plain": [
       "(206, 5)"
      ]
     },
     "execution_count": 36,
     "metadata": {},
     "output_type": "execute_result"
    }
   ],
   "source": [
    "#we are only onterested in pants-fire and false news articles to create our fake news dataset\n",
    "fake = ['pants-fire','false']\n",
    "fake_df = data[data['target'].isin(fake)]\n",
    "fake_df.shape"
   ]
  },
  {
   "cell_type": "code",
   "execution_count": 37,
   "metadata": {},
   "outputs": [
    {
     "data": {
      "text/html": [
       "<div>\n",
       "<style scoped>\n",
       "    .dataframe tbody tr th:only-of-type {\n",
       "        vertical-align: middle;\n",
       "    }\n",
       "\n",
       "    .dataframe tbody tr th {\n",
       "        vertical-align: top;\n",
       "    }\n",
       "\n",
       "    .dataframe thead th {\n",
       "        text-align: right;\n",
       "    }\n",
       "</style>\n",
       "<table border=\"1\" class=\"dataframe\">\n",
       "  <thead>\n",
       "    <tr style=\"text-align: right;\">\n",
       "      <th></th>\n",
       "      <th>author</th>\n",
       "      <th>statement</th>\n",
       "      <th>source</th>\n",
       "      <th>date</th>\n",
       "      <th>target</th>\n",
       "    </tr>\n",
       "  </thead>\n",
       "  <tbody>\n",
       "    <tr>\n",
       "      <th>0</th>\n",
       "      <td>Gabrielle Settles</td>\n",
       "      <td>The 2017 Unite the Right rally in Charlottesvi...</td>\n",
       "      <td>Scott Adams</td>\n",
       "      <td>March 10, 2023</td>\n",
       "      <td>pants-fire</td>\n",
       "    </tr>\n",
       "    <tr>\n",
       "      <th>1</th>\n",
       "      <td>Madison Czopek</td>\n",
       "      <td>Video shows that certain drinks can “test posi...</td>\n",
       "      <td>Facebook posts</td>\n",
       "      <td>March 10, 2023</td>\n",
       "      <td>false</td>\n",
       "    </tr>\n",
       "    <tr>\n",
       "      <th>2</th>\n",
       "      <td>Paul Specht</td>\n",
       "      <td>Wake County is the only large county in North ...</td>\n",
       "      <td>Erin Paré</td>\n",
       "      <td>March 10, 2023</td>\n",
       "      <td>mostly-true</td>\n",
       "    </tr>\n",
       "    <tr>\n",
       "      <th>3</th>\n",
       "      <td>Ciara O'Rourke</td>\n",
       "      <td>The White House Visitor Center is displaying a...</td>\n",
       "      <td>Facebook posts</td>\n",
       "      <td>March 9, 2023</td>\n",
       "      <td>pants-fire</td>\n",
       "    </tr>\n",
       "    <tr>\n",
       "      <th>4</th>\n",
       "      <td>Ciara O'Rourke</td>\n",
       "      <td>President Joe Biden is “in Gitmo.”</td>\n",
       "      <td>Facebook posts</td>\n",
       "      <td>March 9, 2023</td>\n",
       "      <td>pants-fire</td>\n",
       "    </tr>\n",
       "    <tr>\n",
       "      <th>...</th>\n",
       "      <td>...</td>\n",
       "      <td>...</td>\n",
       "      <td>...</td>\n",
       "      <td>...</td>\n",
       "      <td>...</td>\n",
       "    </tr>\n",
       "    <tr>\n",
       "      <th>265</th>\n",
       "      <td>Madison Czopek</td>\n",
       "      <td>Buffalo Bills player Damar Hamlin’s collapse w...</td>\n",
       "      <td>Instagram posts</td>\n",
       "      <td>January 4, 2023</td>\n",
       "      <td>false</td>\n",
       "    </tr>\n",
       "    <tr>\n",
       "      <th>266</th>\n",
       "      <td>Yacob Reyes</td>\n",
       "      <td>After Joe Biden became vice president, at the ...</td>\n",
       "      <td>Joe Biden</td>\n",
       "      <td>December 20, 2022</td>\n",
       "      <td>false</td>\n",
       "    </tr>\n",
       "    <tr>\n",
       "      <th>267</th>\n",
       "      <td>Tom Kertscher</td>\n",
       "      <td>Says he has been to “Afghanistan, Iraq and tho...</td>\n",
       "      <td>Joe Biden</td>\n",
       "      <td>December 20, 2022</td>\n",
       "      <td>false</td>\n",
       "    </tr>\n",
       "    <tr>\n",
       "      <th>268</th>\n",
       "      <td>Andy Nguyen</td>\n",
       "      <td>“Literally five (homeless) people a day die on...</td>\n",
       "      <td>Karen Bass</td>\n",
       "      <td>December 20, 2022</td>\n",
       "      <td>mostly-true</td>\n",
       "    </tr>\n",
       "    <tr>\n",
       "      <th>269</th>\n",
       "      <td>Liam Halawith</td>\n",
       "      <td>Luana Stoltenberg “originally LOST her race fo...</td>\n",
       "      <td>Kari Lake</td>\n",
       "      <td>December 20, 2022</td>\n",
       "      <td>half-true</td>\n",
       "    </tr>\n",
       "  </tbody>\n",
       "</table>\n",
       "<p>270 rows × 5 columns</p>\n",
       "</div>"
      ],
      "text/plain": [
       "                author                                          statement  \\\n",
       "0    Gabrielle Settles  The 2017 Unite the Right rally in Charlottesvi...   \n",
       "1       Madison Czopek  Video shows that certain drinks can “test posi...   \n",
       "2          Paul Specht  Wake County is the only large county in North ...   \n",
       "3       Ciara O'Rourke  The White House Visitor Center is displaying a...   \n",
       "4       Ciara O'Rourke                 President Joe Biden is “in Gitmo.”   \n",
       "..                 ...                                                ...   \n",
       "265     Madison Czopek  Buffalo Bills player Damar Hamlin’s collapse w...   \n",
       "266        Yacob Reyes  After Joe Biden became vice president, at the ...   \n",
       "267      Tom Kertscher  Says he has been to “Afghanistan, Iraq and tho...   \n",
       "268        Andy Nguyen  “Literally five (homeless) people a day die on...   \n",
       "269      Liam Halawith  Luana Stoltenberg “originally LOST her race fo...   \n",
       "\n",
       "              source               date       target  \n",
       "0        Scott Adams     March 10, 2023   pants-fire  \n",
       "1     Facebook posts     March 10, 2023        false  \n",
       "2          Erin Paré     March 10, 2023  mostly-true  \n",
       "3     Facebook posts      March 9, 2023   pants-fire  \n",
       "4     Facebook posts      March 9, 2023   pants-fire  \n",
       "..               ...                ...          ...  \n",
       "265  Instagram posts    January 4, 2023        false  \n",
       "266        Joe Biden  December 20, 2022        false  \n",
       "267        Joe Biden  December 20, 2022        false  \n",
       "268       Karen Bass  December 20, 2022  mostly-true  \n",
       "269        Kari Lake  December 20, 2022    half-true  \n",
       "\n",
       "[270 rows x 5 columns]"
      ]
     },
     "execution_count": 37,
     "metadata": {},
     "output_type": "execute_result"
    }
   ],
   "source": [
    "#show dataset\n",
    "data"
   ]
  },
  {
   "cell_type": "code",
   "execution_count": 43,
   "metadata": {},
   "outputs": [],
   "source": [
    "#Store the results of scraping first 9 pages to a CSV file\n",
    "data.to_csv('fake_news1.csv')"
   ]
  },
  {
   "cell_type": "code",
   "execution_count": null,
   "metadata": {},
   "outputs": [],
   "source": []
  }
 ],
 "metadata": {
  "kernelspec": {
   "display_name": ".venv",
   "language": "python",
   "name": "python3"
  },
  "language_info": {
   "codemirror_mode": {
    "name": "ipython",
    "version": 3
   },
   "file_extension": ".py",
   "mimetype": "text/x-python",
   "name": "python",
   "nbconvert_exporter": "python",
   "pygments_lexer": "ipython3",
   "version": "3.11.2"
  },
  "orig_nbformat": 4,
  "vscode": {
   "interpreter": {
    "hash": "7e004d548bff6449efcbfdf14cdc2bbfcab13282a01bca6d98cbff23ceabf405"
   }
  }
 },
 "nbformat": 4,
 "nbformat_minor": 2
}
